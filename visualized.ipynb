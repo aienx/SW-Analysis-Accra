{
 "cells": [
  {
   "attachments": {},
   "cell_type": "markdown",
   "metadata": {},
   "source": [
    "In this project, I am going to visualize the Walkability Index of a suburb(Accra) using maps or other graphical representations to understand the spatial distribution of walkability within the suburb.\n",
    "\n",
    "A secondary purpose of this notebook is to be an introduction to basic Python, the pandas data analytics library and matplotlib.\n",
    "\n",
    "Importing libraries and technologies needed for the rest of the notebook."
   ]
  },
  {
   "cell_type": "code",
   "execution_count": 1,
   "metadata": {},
   "outputs": [],
   "source": [
    "#We don't use seaborn in this particular notebook, but it makes matplotlib charts look nicer.\n",
    "import seaborn as sns \n",
    "\n",
    "import osmnx as ox\n",
    "\n",
    "import pandas as pd\n",
    "from pandas import Series,DataFrame\n",
    "\n",
    "#To display the figures in the notebook itself.\n",
    "%matplotlib inline"
   ]
  },
  {
   "attachments": {},
   "cell_type": "markdown",
   "metadata": {},
   "source": [
    "## Data Acquisition\n",
    "Using the python OSMNX library, I obtain the necessary data from OpenStreetMap (OSM) for the suburb to analyze.\n",
    "\n",
    "Once the network graph is downloaded, I visualize it using ox.plot_graph(). This will show you the walk network of the specified suburb"
   ]
  },
  {
   "cell_type": "code",
   "execution_count": 2,
   "metadata": {},
   "outputs": [],
   "source": [
    "suburb_name = \"Accra\"\n",
    "\n",
    "graph = ox.graph_from_place(suburb_name, network_type=\"walk\")\n",
    "\n",
    "#ox.plot_graph(graph, node_size=1)"
   ]
  },
  {
   "attachments": {},
   "cell_type": "markdown",
   "metadata": {},
   "source": [
    "## Data Preparation\n",
    "Once you have the OSM data, you need to preprocess it to extract the relevant features\n",
    "\n",
    "### Road Connectivity"
   ]
  },
  {
   "cell_type": "code",
   "execution_count": 14,
   "metadata": {},
   "outputs": [],
   "source": [
    "import osmnx as ox\n",
    "import networkx as nx\n",
    "\n",
    "G = ox.graph_from_place(suburb_name, network_type='all')\n"
   ]
  },
  {
   "cell_type": "code",
   "execution_count": 20,
   "metadata": {},
   "outputs": [
    {
     "name": "stdout",
     "output_type": "stream",
     "text": [
      "Total length: 6,593,160.413000006m\n",
      "Number of intersections: 24,079\n"
     ]
    }
   ],
   "source": [
    "total_length = sum([data['length'] for u, v, data in G.edges(data=True)])\n",
    "\n",
    "intersection_nodes = [node for node, degree in G.degree() if degree > 2]\n",
    "\n",
    "num_intersections = len(intersection_nodes)\n",
    "\n",
    "print(\"Total length: {:,}m\".format(total_length))\n",
    "print(\"Number of intersections: {:,}\".format(num_intersections))\n"
   ]
  },
  {
   "attachments": {},
   "cell_type": "markdown",
   "metadata": {},
   "source": [
    "### Population Density"
   ]
  },
  {
   "cell_type": "code",
   "execution_count": 17,
   "metadata": {},
   "outputs": [],
   "source": [
    "import prep\n",
    "\n",
    "population = 2660000\n",
    "area = 225.7\n",
    "# Print the population density of Accra\n",
    "data_density = prep.calculate_population_density(population, area)"
   ]
  },
  {
   "attachments": {},
   "cell_type": "markdown",
   "metadata": {},
   "source": [
    "### Land use mix"
   ]
  },
  {
   "cell_type": "code",
   "execution_count": 21,
   "metadata": {},
   "outputs": [
    {
     "name": "stdout",
     "output_type": "stream",
     "text": [
      "landuse\n",
      "residential          322\n",
      "grass                175\n",
      "commercial            83\n",
      "industrial            22\n",
      "cemetery              11\n",
      "farmland              10\n",
      "construction          10\n",
      "religious              7\n",
      "military               4\n",
      "dump                   4\n",
      "forest                 4\n",
      "government             3\n",
      "recreation_ground      3\n",
      "farmyard               2\n",
      "landfill               2\n",
      "garages                1\n",
      "retail                 1\n",
      "plant_nursery          1\n",
      "churchyard             1\n",
      "public_office          1\n",
      "salt_pond              1\n",
      "Name: count, dtype: int64\n"
     ]
    }
   ],
   "source": [
    "# Download the OSM data for the suburb\n",
    "suburb_gdf = ox.geocode_to_gdf(suburb_name)\n",
    "\n",
    "# Retrieve land use tags for the suburb\n",
    "land_use_tags = ox.geometries_from_place(suburb_name, tags={\"landuse\": True})\n",
    "\n",
    "# Print the land use tags and their frequencies\n",
    "land_use_counts = land_use_tags[\"landuse\"].value_counts()\n",
    "print(land_use_counts)"
   ]
  },
  {
   "attachments": {},
   "cell_type": "markdown",
   "metadata": {},
   "source": [
    "### Spatial Intersection\n",
    "Overlay land use mix data with the suburb's boundaries to extract the relevant land use mix within the region. Useing spatial operations like intersection or overlay to identify the land use polygons that fall within the suburb."
   ]
  },
  {
   "cell_type": "code",
   "execution_count": 8,
   "metadata": {},
   "outputs": [
    {
     "name": "stdout",
     "output_type": "stream",
     "text": [
      "True\n",
      "True\n"
     ]
    }
   ],
   "source": [
    "from prep import create_land_use_polygons\n",
    "import geopandas as gpd\n",
    "from shapely.geometry import Polygon\n",
    "\n",
    "# Create a DataFrame with land use data\n",
    "land_use_data = gpd.GeoDataFrame({\n",
    "    'land_use': ['residential', 'grass', 'commercial', 'industrial', 'cemetery', 'farmland', 'construction', 'religious', 'military', 'dump', 'forest', 'government', 'recreation_ground', 'farmyard', 'landfill', 'garages', 'retail', 'plant_nursery', 'churchyard', 'public_office', 'salt_pond'],\n",
    "    'count': [322, 175, 83, 22, 11, 10, 10, 7, 4, 4, 4, 3, 3, 2, 2, 1, 1, 1, 1, 1, 1]\n",
    "})\n",
    "\n",
    "# Create polygons from land use data (assuming they have geometry coordinates)\n",
    "land_use_polygons = create_land_use_polygons(land_use_data)\n",
    "\n",
    "# Create a new DataFrame with the land use polygons\n",
    "land_use_polygons_df = gpd.GeoDataFrame(land_use_polygons, columns=['land_use', 'geometry'], geometry='geometry')\n",
    "\n",
    "\n",
    "# Define the geographical coordinates of the suburb's boundary\n",
    "north = 37.8  # Latitude of the northern edge\n",
    "south = 37.7  # Latitude of the southern edge\n",
    "east = 144.98  # Longitude of the eastern edge\n",
    "west = 144.95  # Longitude of the western edge\n",
    "\n",
    "# Convert land_use_polygons_df to a GeoDataFrame\n",
    "land_use_gdf = gpd.GeoDataFrame(land_use_polygons_df, geometry='geometry', crs='EPSG:4326')\n",
    "\n",
    "# Create a polygon representing the suburb boundary\n",
    "boundary_coords = [(west, south), (east, south), (east, north), (west, north)]\n",
    "suburb_boundary = gpd.GeoDataFrame({'geometry': [Polygon(boundary_coords)]}, geometry='geometry', crs='EPSG:4326')\n",
    "\n",
    "print(isinstance(land_use_gdf, gpd.GeoDataFrame))\n",
    "print(isinstance(suburb_boundary, gpd.GeoDataFrame))\n",
    "\n",
    "# Perform the overlay operation\n",
    "land_use_within_suburb = gpd.overlay(land_use_gdf, suburb_boundary, how='intersection')"
   ]
  },
  {
   "cell_type": "code",
   "execution_count": 9,
   "metadata": {},
   "outputs": [
    {
     "data": {
      "image/png": "[encoded data removed]",
      "text/plain": [
       "<Figure size 1000x1000 with 1 Axes>"
      ]
     },
     "metadata": {},
     "output_type": "display_data"
    }
   ],
   "source": [
    "import matplotlib.pyplot as plt\n",
    "\n",
    "# Plot the land use within the suburb boundary\n",
    "fig, ax = plt.subplots(figsize=(10, 10))\n",
    "land_use_within_suburb.plot(ax=ax, column='land_use', cmap='Set3')\n",
    "suburb_boundary.plot(ax=ax, facecolor='none', edgecolor='black')\n",
    "plt.title('Land Use within Suburb Boundary')\n",
    "plt.show()"
   ]
  },
  {
   "cell_type": "code",
   "execution_count": null,
   "metadata": {},
   "outputs": [],
   "source": [
    "import folium\n",
    "\n",
    "# Create a folium map centered around the suburb boundary\n",
    "m = folium.Map(location=[(north + south) / 2, (east + west) / 2], zoom_start=13)\n",
    "\n",
    "# Convert land_use_within_suburb to GeoJSON format\n",
    "land_use_geojson = land_use_within_suburb.__geo_interface__\n",
    "\n",
    "# Add land_use_within_suburb to the map as a GeoJSON layer\n",
    "folium.GeoJson(land_use_geojson).add_to(m)\n",
    "\n",
    "# Add the suburb boundary to the map\n",
    "folium.GeoJson(suburb_boundary.__geo_interface__, style_function=lambda x: {'color': 'black'}).add_to(m)\n",
    "\n",
    "# Display the map\n",
    "m"
   ]
  }
 ],
 "metadata": {
  "kernelspec": {
   "display_name": "Python 3",
   "language": "python",
   "name": "python3"
  },
  "language_info": {
   "codemirror_mode": {
    "name": "ipython",
    "version": 3
   },
   "file_extension": ".py",
   "mimetype": "text/x-python",
   "name": "python",
   "nbconvert_exporter": "python",
   "pygments_lexer": "ipython3",
   "version": "3.11.3"
  },
  "orig_nbformat": 4
 },
 "nbformat": 4,
 "nbformat_minor": 2
}
